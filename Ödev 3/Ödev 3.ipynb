{
 "cells": [
  {
   "cell_type": "markdown",
   "id": "6009a689-f583-4a6c-a34d-b69930bb84a3",
   "metadata": {},
   "source": [
    "Yaz Kampı: Veri Bilimi – Hafta 3"
   ]
  },
  {
   "cell_type": "raw",
   "id": "5761dfe6-14a2-46d3-8723-e2ec30168344",
   "metadata": {},
   "source": [
    "Soru 1 – Liste Metotları\n",
    "Bir sınıfta öğrencilerin notları şu şekilde tutuluyor:\n",
    "notlar = [85, 92, 76, 92, 100, 76, 85, 92]\n",
    "• Listedeki tekrar eden notları silip benzersiz bir liste oluşturun.\n",
    "• En yüksek ve en düşük notu bulun.\n",
    "• Notları küçükten büyüğe sıralayın."
   ]
  },
  {
   "cell_type": "code",
   "execution_count": 1,
   "id": "5cd4bc4f-bd09-4377-b7e4-3d5f4a5a8746",
   "metadata": {},
   "outputs": [
    {
     "name": "stdout",
     "output_type": "stream",
     "text": [
      "Benzersiz Notlar: [100, 92, 85, 76]\n",
      "En yüksek not: 100\n",
      "En düşük not: 76\n",
      "Sıralı Notlar: [76, 76, 85, 85, 92, 92, 92, 100]\n"
     ]
    }
   ],
   "source": [
    "notlar = [85, 92, 76, 92, 100, 76, 85, 92]\n",
    "\n",
    "benzersiz = list(set(notlar))\n",
    "print(\"Benzersiz Notlar:\", benzersiz)\n",
    "\n",
    "en_yuksek = max(notlar)\n",
    "en_dusuk = min(notlar)\n",
    "print(\"En yüksek not:\", en_yuksek)\n",
    "print(\"En düşük not:\", en_dusuk)\n",
    "\n",
    "sirali = sorted(notlar)\n",
    "print(\"Sıralı Notlar:\", sirali)"
   ]
  },
  {
   "cell_type": "raw",
   "id": "bff7355d-a582-4927-bfc8-0caeaff96bd4",
   "metadata": {},
   "source": [
    "Soru 2 – Sayılar\n",
    "Bir sayının Armstrong sayısı olup olmadığını kontrol eden bir Python fonksiyonu yazın.\n",
    "Armstrong sayısı: Her basamağının küplerinin toplamı kendisine eşit olan sayılar.\n",
    "Örn: 153 → 1³+5³+3³ = 153"
   ]
  },
  {
   "cell_type": "code",
   "execution_count": 1,
   "id": "b8de8dd9-92a4-4a87-a0a7-9a28f20b0fa6",
   "metadata": {},
   "outputs": [
    {
     "name": "stdout",
     "output_type": "stream",
     "text": [
      "153 Armstrong mu? True\n",
      "100 Armstrong mu? False\n"
     ]
    }
   ],
   "source": [
    "def armstrong_mu(sayi):\n",
    "    sayi_str = str(sayi)\n",
    "    toplam = 0\n",
    "    for basamak in sayi_str:\n",
    "        toplam = toplam + int(basamak) ** 3\n",
    "    if toplam == sayi:\n",
    "        return True\n",
    "    else:\n",
    "        return False\n",
    "\n",
    "print(\"153 Armstrong mu?\", armstrong_mu(153)) \n",
    "print(\"100 Armstrong mu?\", armstrong_mu(100)) "
   ]
  },
  {
   "cell_type": "raw",
   "id": "56987304-8ffd-4127-93f5-aa77e44ad3ea",
   "metadata": {},
   "source": [
    "Soru 3 – Kümeler\n",
    "Aşağıdaki iki küme verilmiştir:\n",
    "A = {\"Python\", \"R\", \"SQL\", \"Java\"}\n",
    "B = {\"C++\", \"Python\", \"JavaScript\", \"SQL\"}\n",
    "• Ortak dilleri bulun.\n",
    "• Sadece A’da olan dilleri listeleyin.\n",
    "• İki kümenin birleşimini alfabetik olarak yazdırın."
   ]
  },
  {
   "cell_type": "code",
   "execution_count": null,
   "id": "07d8f252-87d3-4807-a9ad-30b7c728e413",
   "metadata": {},
   "outputs": [],
   "source": [
    "A = {\"Python\", \"R\", \"SQL\", \"Java\"}\n",
    "B = {\"C++\", \"Python\", \"JavaScript\", \"SQL\"}\n",
    "ortak = A & B\n",
    "sadece_A = A - B\n",
    "birlesim = A | B\n",
    "birlesim_list = list(birlesim) \n",
    "birlesim_list.sort()           \n",
    "print(\"Ortak diller:\", ortak)\n",
    "print(\"Sadece A'da olan diller:\", sadece_A)\n",
    "print(\"Birleşim (alfabetik):\", birlesim_list)"
   ]
  },
  {
   "cell_type": "raw",
   "id": "efa5d3ee-0c57-4ddb-bdd6-0f1883d7cfa2",
   "metadata": {},
   "source": [
    "Soru 4 – Modüller\n",
    "• random modülünü kullanarak 1–100 arasında 10 rastgele sayı üretin.\n",
    "• Bu sayıların ortalamasını ve standart sapmasını statistics modülü ile hesaplayın."
   ]
  },
  {
   "cell_type": "code",
   "execution_count": null,
   "id": "b91ca52e-cdd9-4a5e-970e-ce5bd6bcc675",
   "metadata": {},
   "outputs": [],
   "source": [
    "import random\n",
    "import statistics\n",
    "sayilar = []\n",
    "for i in range(10):\n",
    "    sayilar.append(random.randint(1, 100))\n",
    "print(\"Rastgele sayılar:\", sayilar)\n",
    "ortalama = statistics.mean(sayilar)\n",
    "std_sapma = statistics.pstdev(sayilar)\n",
    "print(\"Ortalama:\", ortalama)\n",
    "print(\"Standart sapma:\", round(std_sapma, 2))\n"
   ]
  },
  {
   "cell_type": "raw",
   "id": "b36b7514-4aba-4ebd-b862-1b0682b3e9cb",
   "metadata": {},
   "source": [
    "Soru 5 – Fonksiyonlar\n",
    "kelime_sayacı(metin) adında bir fonksiyon yazın.\n",
    "Fonksiyon verilen metindeki:\n",
    "• toplam kelime sayısını\n",
    "• en uzun kelimeyi\n",
    "• en sık geçen kelimeyi döndürsün."
   ]
  },
  {
   "cell_type": "code",
   "execution_count": 2,
   "id": "d2f3d776-9a89-4482-8447-23aa2c525eab",
   "metadata": {},
   "outputs": [
    {
     "name": "stdout",
     "output_type": "stream",
     "text": [
      "Toplam kelime sayısı: 4\n",
      "En uzun kelime: programalama\n",
      "En sık geçen kelime: python\n"
     ]
    }
   ],
   "source": [
    "# Fonksiyon tanımlıyoruz\n",
    "def kelime_sayaci(metin):\n",
    "    kelimeler = metin.split()\n",
    "    toplam_kelime_sayisi = len(kelimeler)\n",
    "    en_uzun_kelime = max(kelimeler, key=len)\n",
    "    kelime_siklik = {}\n",
    "    for kelime in kelimeler:\n",
    "        kelime = kelime.lower()  # Büyük/küçük harfi yok saymak için\n",
    "        if kelime in kelime_siklik:\n",
    "            kelime_siklik[kelime] += 1\n",
    "        else:\n",
    "            kelime_siklik[kelime] = 1\n",
    "    en_sik_kelime = max(kelime_siklik, key=kelime_siklik.get)\n",
    "    return toplam_kelime_sayisi, en_uzun_kelime, en_sik_kelime\n",
    "\n",
    "\n",
    "metin =str(input(\"Metni giriniz: \"))\n",
    "toplam, en_uzun, en_sik = kelime_sayaci(metin)\n",
    "print(\"Toplam kelime sayısı:\", toplam)\n",
    "print(\"En uzun kelime:\", en_uzun)\n",
    "print(\"En sık geçen kelime:\", en_sik)"
   ]
  },
  {
   "cell_type": "raw",
   "id": "9c4846f8-6d9a-4228-b67e-61a7f6669740",
   "metadata": {},
   "source": [
    "Soru 6 – Gömülü Fonksiyonlar\n",
    "Aşağıdaki liste için map, filter, sorted gibi gömülü fonksiyonları kullanarak:\n",
    "sayilar = [5, 12, 7, 18, 24, 3, 16]\n",
    "• Sadece çift sayıları filtreleyin.\n",
    "• Bu sayıların karelerini bulun.\n",
    "• Karelerini azalan sırada sıralayın."
   ]
  },
  {
   "cell_type": "code",
   "execution_count": 3,
   "id": "e3a38e43-6dcb-4052-bcba-dd9f1bd86dd6",
   "metadata": {},
   "outputs": [
    {
     "name": "stdout",
     "output_type": "stream",
     "text": [
      "Çift sayılar: [12, 18, 24, 16]\n",
      "Kareleri: [144, 324, 576, 256]\n",
      "Kareleri azalan sırada: [576, 324, 256, 144]\n"
     ]
    }
   ],
   "source": [
    "sayilar = [5, 12, 7, 18, 24, 3, 16]\n",
    "cift_sayilar = list(filter(lambda x: x % 2 == 0, sayilar))\n",
    "kareler = list(map(lambda x: x**2, cift_sayilar))\n",
    "kareler_desc = sorted(kareler, reverse=True)\n",
    "print(\"Çift sayılar:\", cift_sayilar)\n",
    "print(\"Kareleri:\", kareler)\n",
    "print(\"Kareleri azalan sırada:\", kareler_desc)"
   ]
  },
  {
   "cell_type": "raw",
   "id": "1e474417-e31e-4af8-8b9d-7b5fe72ad7a1",
   "metadata": {},
   "source": [
    "Soru 7 – Lambda İfadeleri\n",
    "Aşağıdaki listeyi, her kelimenin uzunluğuna göre küçükten büyüğe sıralayın.\n",
    "kelimeler = [\"veri\", \"bilim\", \"analiz\", \"yapayzeka\", \"python\"]\n",
    "Bunu sorted + lambda ile yapın."
   ]
  },
  {
   "cell_type": "code",
   "execution_count": null,
   "id": "d2e82623-d040-4f15-aec1-9fe49eedfb0b",
   "metadata": {},
   "outputs": [],
   "source": []
  },
  {
   "cell_type": "raw",
   "id": "96d1e2fb-eef0-4ba4-9d30-350dd34b3d30",
   "metadata": {},
   "source": [
    "Soru 8 – Metodlar\n",
    "Bir string içinde geçen tüm rakamları bulun ve bunların toplamını döndüren bir fonksiyon\n",
    "yazın.\n",
    "Örn: \"abc12def3\" → 12 + 3 = 15"
   ]
  },
  {
   "cell_type": "code",
   "execution_count": 4,
   "id": "964e23ca-7d11-45be-a70f-c502986932cf",
   "metadata": {},
   "outputs": [
    {
     "name": "stdout",
     "output_type": "stream",
     "text": [
      "Rakamların toplamı: 15\n"
     ]
    }
   ],
   "source": [
    "\n",
    "def rakamlari_topla(metin):\n",
    "    toplam = 0\n",
    "    rakam = \"\"\n",
    "    for karakter in metin:\n",
    "        if karakter.isdigit():\n",
    "            rakam += karakter \n",
    "        else:\n",
    "            if rakam != \"\":\n",
    "                toplam += int(rakam)\n",
    "                rakam = \"\"  \n",
    "    if rakam != \"\":\n",
    "        toplam += int(rakam) \n",
    "    return toplam\n",
    "metin = \"abc12def3\"\n",
    "sonuc = rakamlari_topla(metin)\n",
    "print(\"Rakamların toplamı:\", sonuc)\n"
   ]
  },
  {
   "cell_type": "raw",
   "id": "2dddfa40-641d-42bc-b12c-30def47b0e41",
   "metadata": {},
   "source": [
    "Soru 9 – (Ekstra) Numpy 1\n",
    "10 elemanlı bir numpy dizisi oluşturun.\n",
    "• Elemanlar 0–50 arasında rastgele sayılar olsun.\n",
    "• Dizinin ortalamasını, standart sapmasını ve en büyük değerini bulun."
   ]
  },
  {
   "cell_type": "code",
   "execution_count": 5,
   "id": "3a611f18-88ba-4aed-b795-c4b3d2a246bc",
   "metadata": {},
   "outputs": [
    {
     "name": "stdout",
     "output_type": "stream",
     "text": [
      "Dizi: [32 41 17 48 32 10 25 43 46 17]\n",
      "Ortalama: 31.1\n",
      "Standart Sapma: 12.762836675285005\n",
      "En Büyük Değer: 48\n"
     ]
    }
   ],
   "source": [
    "import numpy as np\n",
    "dizi = np.random.randint(0, 51, size=10)\n",
    "ortalama = np.mean(dizi)\n",
    "std_sapma = np.std(dizi)\n",
    "en_buyuk = np.max(dizi)\n",
    "print(\"Dizi:\", dizi)\n",
    "print(\"Ortalama:\", ortalama)\n",
    "print(\"Standart Sapma:\", std_sapma)\n",
    "print(\"En Büyük Değer:\", en_buyuk)"
   ]
  },
  {
   "cell_type": "raw",
   "id": "bed75563-4b29-4ef5-ba1d-31c7d20e474a",
   "metadata": {},
   "source": [
    "Soru 10 – (Ekstra) Numpy 2\n",
    "5x5 boyutunda rastgele 0–1 arasında değerlerden oluşan bir numpy matrisi üretin.\n",
    "• Her sütunun ortalamasını bulun.\n",
    "• 0.5’ten büyük olan değerleri 1, küçük eşit olanları 0 yaparak binary matris oluşturun."
   ]
  },
  {
   "cell_type": "code",
   "execution_count": 6,
   "id": "639f460d-5bd7-40d3-bbdd-e4a3290d33e3",
   "metadata": {},
   "outputs": [
    {
     "name": "stdout",
     "output_type": "stream",
     "text": [
      "Orijinal Matris:\n",
      " [[0.2614076  0.86713058 0.96655916 0.53733285 0.29061333]\n",
      " [0.99855367 0.67719776 0.08772182 0.30228514 0.74434655]\n",
      " [0.96819731 0.93350401 0.67995384 0.68093875 0.36613243]\n",
      " [0.24299972 0.34549081 0.63156164 0.89305152 0.89749587]\n",
      " [0.00715928 0.32492314 0.69388397 0.84223845 0.37570176]]\n",
      "Sütun Ortalamaları: [0.49566352 0.62964926 0.61193609 0.65116934 0.53485799]\n",
      "Binary Matris:\n",
      " [[0 1 1 1 0]\n",
      " [1 1 0 0 1]\n",
      " [1 1 1 1 0]\n",
      " [0 0 1 1 1]\n",
      " [0 0 1 1 0]]\n"
     ]
    }
   ],
   "source": [
    "import numpy as np\n",
    "matris = np.random.rand(5, 5)\n",
    "sutun_ort = np.mean(matris, axis=0)  \n",
    "binary_matris = np.where(matris > 0.5, 1, 0)\n",
    "print(\"Orijinal Matris:\\n\", matris)\n",
    "print(\"Sütun Ortalamaları:\", sutun_ort)\n",
    "print(\"Binary Matris:\\n\", binary_matris)"
   ]
  }
 ],
 "metadata": {
  "kernelspec": {
   "display_name": "base",
   "language": "python",
   "name": "python3"
  },
  "language_info": {
   "codemirror_mode": {
    "name": "ipython",
    "version": 3
   },
   "file_extension": ".py",
   "mimetype": "text/x-python",
   "name": "python",
   "nbconvert_exporter": "python",
   "pygments_lexer": "ipython3",
   "version": "3.12.7"
  }
 },
 "nbformat": 4,
 "nbformat_minor": 5
}
