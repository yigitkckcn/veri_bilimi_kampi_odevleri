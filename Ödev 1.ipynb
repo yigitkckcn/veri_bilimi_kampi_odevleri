{
 "cells": [
  {
   "cell_type": "markdown",
   "id": "518b643d-ccc2-49fd-b562-80efa754c83d",
   "metadata": {},
   "source": [
    "Python Ödev Dokümanı: Veri Tipleri ve Operatörler"
   ]
  },
  {
   "cell_type": "markdown",
   "id": "ae8e9584-ee54-483c-943f-3b4d3f0db4a7",
   "metadata": {},
   "source": [
    "Not: Çözümlerde sadece veri tipleri ve operatörler konularını kullanmanız beklenmektedir. Fonksiyonlar, döngüler veya ileri seviye konular henüz kullanılmayacaktır."
   ]
  },
  {
   "cell_type": "markdown",
   "id": "4eb33fa6",
   "metadata": {},
   "source": [
    "1-Kullanıcıdan adını, yaşını ve boyunu (float) input() ile alınız. Bu bilgileri uygun veri tiplerinde değişkenlerde saklayınız ve ekrana anlamlı bir şekilde yazdırınız."
   ]
  },
  {
   "cell_type": "code",
   "execution_count": 53,
   "id": "0f854a85-a2de-42e7-aa91-1cc77dcb80ba",
   "metadata": {},
   "outputs": [
    {
     "name": "stdin",
     "output_type": "stream",
     "text": [
      "adinizi giriniz: yigit\n",
      "yasinizi giriniz: 19\n",
      "boyunuzu giriniz 191\n"
     ]
    },
    {
     "name": "stdout",
     "output_type": "stream",
     "text": [
      "Kullanici adi: yigit, Yaşı: 19, Boyu: 191\n"
     ]
    }
   ],
   "source": [
    "name=input(\"adinizi giriniz:\")\n",
    "age=int(input(\"yasinizi giriniz:\"))\n",
    "length=int(input(\"boyunuzu giriniz\"))\n",
    "print(f\"Kullanici adi: {name}, Yaşı: {age}, Boyu: {length}\")"
   ]
  },
  {
   "cell_type": "markdown",
   "id": "e5ceabb3-6912-40a5-a38e-2945f849cf8d",
   "metadata": {},
   "source": [
    "2. Bir öğrencinin notlarını (Matematik, Fizik, Kimya) int tipinde değişkenlere atayın. Ortalamasını float tipinde hesaplayıp ekrana yazdırınız."
   ]
  },
  {
   "cell_type": "code",
   "execution_count": 54,
   "id": "274e01ba-9859-4bff-b2ef-fb44c20a0a3d",
   "metadata": {},
   "outputs": [
    {
     "name": "stdin",
     "output_type": "stream",
     "text": [
      "matematik notunu giriniz: 80\n",
      "fizik notunu giriniz: 40\n",
      "kimya notunu giriniz: 85\n"
     ]
    },
    {
     "name": "stdout",
     "output_type": "stream",
     "text": [
      "ortalamasi:68.33333333333333\n"
     ]
    }
   ],
   "source": [
    "mat=int(input(\"matematik notunu giriniz:\"))\n",
    "fiz=int(input(\"fizik notunu giriniz:\"))\n",
    "kim=int(input(\"kimya notunu giriniz:\"))\n",
    "ortalama=float((mat+fiz+kim)/3)\n",
    "print(f\"ortalamasi:{ortalama}\")"
   ]
  },
  {
   "cell_type": "markdown",
   "id": "f4b533de-f6fa-4870-a59f-5d808f024acc",
   "metadata": {},
   "source": [
    "3. Bir string değişkeni tanımlayın. Bu stringin ilk ve son karakterini, uzunluğunu ve ters çevrilmiş halini ekrana yazdırınız."
   ]
  },
  {
   "cell_type": "code",
   "execution_count": 55,
   "id": "292427b1-a3d3-484e-a6f4-e2c815083915",
   "metadata": {},
   "outputs": [
    {
     "name": "stdout",
     "output_type": "stream",
     "text": [
      "İlk karakter: P\n",
      "Son karakter: n\n",
      "Uzunluk: 6\n",
      "Tersi: nohtyP\n"
     ]
    }
   ],
   "source": [
    "metin = \"Python\"\n",
    "print(\"İlk karakter:\", metin[0])\n",
    "print(\"Son karakter:\", metin[-1])\n",
    "print(\"Uzunluk:\", len(metin))\n",
    "print(\"Tersi:\", metin[::-1])"
   ]
  },
  {
   "cell_type": "markdown",
   "id": "2c8fdbd5-404f-40a8-8481-cdb074f79709",
   "metadata": {},
   "source": [
    "4. Kullanıcıdan iki sayı alınız. Bu sayılar üzerinde toplama, çıkarma, çarpma, bölme ve mod işlemleri yapınız."
   ]
  },
  {
   "cell_type": "code",
   "execution_count": 56,
   "id": "9bc0b568-ebb0-41e5-93da-68f210969b98",
   "metadata": {},
   "outputs": [
    {
     "name": "stdin",
     "output_type": "stream",
     "text": [
      "1.sayiyi giriniz: 45\n",
      "2.sayiyi giriniz: 7\n"
     ]
    },
    {
     "name": "stdout",
     "output_type": "stream",
     "text": [
      "toplamı:52 cıkarımı:38 çarpımı:315 bölümü:6.428571428571429 modu:3\n"
     ]
    }
   ],
   "source": [
    "first_number=int(input(\"1.sayiyi giriniz:\"))\n",
    "second_number=int(input(\"2.sayiyi giriniz:\"))\n",
    "print(f\"toplamı:{first_number+second_number} cıkarımı:{first_number-second_number} çarpımı:{first_number*second_number} bölümü:{first_number/second_number} modu:{first_number%second_number}\")"
   ]
  },
  {
   "cell_type": "markdown",
   "id": "d086d3f5-f760-44ff-b4b0-3654e4a38362",
   "metadata": {},
   "source": [
    "5. Bir öğrencinin ortalaması 50’den büyükse 'Geçti', değilse 'Kaldı' çıktısını veren bir program yazınız. (Karşılaştırma ve mantıksal operatörler kullanılacak.)"
   ]
  },
  {
   "cell_type": "code",
   "execution_count": 58,
   "id": "d3ecc688-0f6a-415b-9654-a7e432a96443",
   "metadata": {},
   "outputs": [
    {
     "name": "stdin",
     "output_type": "stream",
     "text": [
      "ortalamayi giriniz:  49.9\n"
     ]
    },
    {
     "name": "stdout",
     "output_type": "stream",
     "text": [
      "Kaldı\n"
     ]
    }
   ],
   "source": [
    "ortalama = float(input(\"ortalamayi giriniz: \"))\n",
    "if ortalama >= 50 and ortalama <= 100:\n",
    "    print(\"Geçti\")\n",
    "elif ortalama < 50 and ortalama >= 0:\n",
    "    print(\"Kaldı\")\n",
    "else:\n",
    "    print(\"Notlarda hata var!\")\n"
   ]
  },
  {
   "cell_type": "markdown",
   "id": "d86b22ac-62ec-4aaf-ab0c-5aee4d72cc4c",
   "metadata": {},
   "source": [
    "6. Kullanıcıdan yaşını alınız. Eğer yaş 18’den büyükse 'Ehliyet alabilirsiniz', değilse 'Ehliyet alamazsınız' çıktısı veriniz."
   ]
  },
  {
   "cell_type": "code",
   "execution_count": 59,
   "id": "e5c99f6b-1962-4236-90d3-f24120da3e6d",
   "metadata": {},
   "outputs": [
    {
     "name": "stdin",
     "output_type": "stream",
     "text": [
      "yasinizi giriniz 19\n"
     ]
    },
    {
     "name": "stdout",
     "output_type": "stream",
     "text": [
      "Ehliyet alabilirsin\n"
     ]
    }
   ],
   "source": [
    "age=int(input(\"yasinizi giriniz\"))\n",
    "if age>=18 :\n",
    "    print(\"Ehliyet alabilirsin\")\n",
    "elif age<18 :\n",
    "    print(\"Ehliyet Alamazsınız\")"
   ]
  },
  {
   "cell_type": "markdown",
   "id": "488366bf-65a0-4347-b7ac-78537b02c356",
   "metadata": {},
   "source": [
    "7. Bir ürünün fiyatını (float) ve indirim oranını (yüzde) alınız. İndirimli fiyatı hesaplayıp ekrana yazdırınız. (Aritmetik operatörler kullanılacak.)"
   ]
  },
  {
   "cell_type": "code",
   "execution_count": 60,
   "id": "debed883-e4ce-468c-87e4-bf7e1d7fa996",
   "metadata": {},
   "outputs": [
    {
     "name": "stdin",
     "output_type": "stream",
     "text": [
      "urun fiyati giriniz 55\n",
      "indirim orani nedir 1\n"
     ]
    },
    {
     "name": "stdout",
     "output_type": "stream",
     "text": [
      "indirimden sonraki son fiyati:54.45\n"
     ]
    }
   ],
   "source": [
    "urun_fiyat=float(input(\"urun fiyati giriniz\"))\n",
    "indirim_yuzde=int(input(\"indirim orani nedir\"))\n",
    "son_fiyat=float(urun_fiyat-(urun_fiyat*indirim_yuzde/100))\n",
    "print(f\"indirimden sonraki son fiyati:{son_fiyat}\")"
   ]
  },
  {
   "cell_type": "markdown",
   "id": "608ead53-053b-4c3f-ac93-c2b80107787c",
   "metadata": {},
   "source": [
    "8. True ve False değerlerini içeren değişkenlerle mantıksal operatörleri (and, or, not) uygulayarak örnekler yapınız ve sonuçlarını ekrana yazdırınız."
   ]
  },
  {
   "cell_type": "code",
   "execution_count": 61,
   "id": "ed4d44e1-8e06-4286-9590-8c7aca523793",
   "metadata": {},
   "outputs": [
    {
     "name": "stdout",
     "output_type": "stream",
     "text": [
      "a and b: False\n",
      "a and a: True\n",
      "b and b: False\n",
      "a or b: True\n",
      "a or a: True\n",
      "b or b: False\n",
      "not a: False\n",
      "not b: True\n"
     ]
    }
   ],
   "source": [
    "a = True\n",
    "b = False\n",
    "# AND (ve)\n",
    "print(\"a and b:\", a and b)\n",
    "print(\"a and a:\", a and a)\n",
    "print(\"b and b:\", b and b)\n",
    "# OR (veya)\n",
    "print(\"a or b:\", a or b)\n",
    "print(\"a or a:\", a or a)\n",
    "print(\"b or b:\", b or b)\n",
    "# NOT (değil)\n",
    "print(\"not a:\", not a) \n",
    "print(\"not b:\", not b)\n"
   ]
  },
  {
   "cell_type": "markdown",
   "id": "f323457f-2b3c-4315-bf71-936d8b0e17d6",
   "metadata": {},
   "source": [
    "9. Küçük bir alışveriş sepeti uygulaması yapınız:\n",
    "- Kullanıcıdan 3 ürünün fiyatını alınız.\n",
    "- Toplam fiyatı hesaplayınız.\n",
    "- Eğer toplam fiyat 200 TL’den fazlaysa %10 indirim uygulayınız.\n",
    "- Son fiyatı ekrana yazdırınız\n"
   ]
  },
  {
   "cell_type": "code",
   "execution_count": 62,
   "id": "b06daeef-fd27-49b9-bcf0-e89b2084745d",
   "metadata": {},
   "outputs": [
    {
     "name": "stdin",
     "output_type": "stream",
     "text": [
      "1.urunun fiyatini giriniz 55\n",
      "2.urunun fiyatini giriniz 77\n",
      "3.urunun fiyatini giriniz 55\n"
     ]
    },
    {
     "name": "stdout",
     "output_type": "stream",
     "text": [
      "toplam son fiyat: 187.0\n"
     ]
    }
   ],
   "source": [
    "birinici_urun=float(input(\"1.urunun fiyatini giriniz\"))\n",
    "ikinici_urun=float(input(\"2.urunun fiyatini giriniz\"))\n",
    "ucuncu_urun=float(input(\"3.urunun fiyatini giriniz\"))\n",
    "toplam=birinici_urun+ikinici_urun+ucuncu_urun\n",
    "if toplam>200 :\n",
    "    indirimli_toplam=float(toplam-(toplam/10))\n",
    "    print(\"toplam son fiyat:\",indirimli_toplam)\n",
    "else :\n",
    "        print(\"toplam son fiyat:\",toplam)\n"
   ]
  },
  {
   "cell_type": "markdown",
   "id": "4a8f282d-1e28-4b1b-ace0-1840aea8a996",
   "metadata": {},
   "source": [
    "10. Kullanıcıdan doğum yılını alınız. Bu yıl ile güncel yılı kullanarak yaşını hesaplayınız. Yaşına göre şu mesajlardan birini veriniz:\n",
    "- 0-12: 'Çocuksunuz'\n",
    "- 13-17: 'Ergensiniz'\n",
    "- 18 ve üzeri: 'Yetişkinsiniz'\n"
   ]
  },
  {
   "cell_type": "code",
   "execution_count": 63,
   "id": "55d46fb5-76a2-4695-8e06-f0d55e8b9604",
   "metadata": {},
   "outputs": [
    {
     "name": "stdin",
     "output_type": "stream",
     "text": [
      "dogum tarihini giriniz 2006\n"
     ]
    },
    {
     "name": "stdout",
     "output_type": "stream",
     "text": [
      "yetiskinsiniz\n"
     ]
    }
   ],
   "source": [
    "guncel_yil=2025\n",
    "dogum_yili=int(input(\"dogum tarihini giriniz\"))\n",
    "yas=2025-dogum_yili\n",
    "if 0<=yas<=12 :\n",
    "    print(\"Çocuksunuz\")\n",
    "elif 13<=yas<=17 :\n",
    "    print(\"Ergensiniz\")\n",
    "elif 18<=yas :\n",
    "    print(\"yetiskinsiniz\")\n",
    "    "
   ]
  },
  {
   "cell_type": "code",
   "execution_count": null,
   "id": "7d048c2e-7410-47fe-a569-452a5a17f928",
   "metadata": {},
   "outputs": [],
   "source": []
  }
 ],
 "metadata": {
  "kernelspec": {
   "display_name": "Python [conda env:base] *",
   "language": "python",
   "name": "conda-base-py"
  },
  "language_info": {
   "codemirror_mode": {
    "name": "ipython",
    "version": 3
   },
   "file_extension": ".py",
   "mimetype": "text/x-python",
   "name": "python",
   "nbconvert_exporter": "python",
   "pygments_lexer": "ipython3",
   "version": "3.12.7"
  }
 },
 "nbformat": 4,
 "nbformat_minor": 5
}
