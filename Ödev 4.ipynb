{
 "cells": [
  {
   "cell_type": "markdown",
   "id": "b7009797",
   "metadata": {},
   "source": []
  },
  {
   "cell_type": "markdown",
   "id": "be8f604b",
   "metadata": {},
   "source": []
  },
  {
   "cell_type": "markdown",
   "id": "f4b6ffd7",
   "metadata": {},
   "source": [
    "1. Numpy ile Matris İşlemleri\n",
    "- 5x5 boyutunda rastgele (0-100 arasında) tam sayılardan oluşan bir matris oluşturun.\n",
    "- Bu matrisin:\n",
    "  • Ortalama, standart sapma ve varyansını hesaplayın.\n",
    "  • En büyük ve en küçük değerlerini bulun.\n",
    "  • Köşegenindeki elemanların toplamını bulun\n"
   ]
  },
  {
   "cell_type": "code",
   "execution_count": 1,
   "id": "d0cfb070",
   "metadata": {},
   "outputs": [
    {
     "name": "stdout",
     "output_type": "stream",
     "text": [
      "5x5 Rastgele Matris:\n",
      "[[102  51  92  14 106]\n",
      " [ 71  60  20 102  82]\n",
      " [ 86  74  74  87  99]\n",
      " [103  23   2  21  52]\n",
      " [  1  87 107  29  37]]\n"
     ]
    }
   ],
   "source": [
    "import numpy as np\n",
    "np.random.seed(42)\n",
    "matris = np.random.randint(0, 109, size=(5, 5))\n",
    "print(\"5x5 Rastgele Matris:\")\n",
    "print(matris)"
   ]
  },
  {
   "cell_type": "code",
   "execution_count": 27,
   "id": "e748c4b3",
   "metadata": {},
   "outputs": [
    {
     "name": "stdout",
     "output_type": "stream",
     "text": [
      "\n",
      "Ortalama: 63.28\n",
      "Standart Sapma: 34.753440117490534\n",
      "Varyans: 1207.8016000000002\n",
      "En Büyük Değer: 107\n",
      "En Küçük Değer: 1\n",
      "Köşegen Toplamı: 294\n"
     ]
    }
   ],
   "source": [
    "print(\"\\nOrtalama:\",np.mean(matris))\n",
    "print(\"Standart Sapma:\",np.std(matris))\n",
    "print(\"Varyans:\",np.var(matris) )\n",
    "print(\"En Büyük Değer:\", np.max(matris))\n",
    "print(\"En Küçük Değer:\", np.min(matris))\n",
    "print(\"Köşegen Toplamı:\", np.trace(matris))"
   ]
  },
  {
   "cell_type": "markdown",
   "id": "e3ca89bd",
   "metadata": {},
   "source": [
    "2. Numpy ile Veri Simülasyonu\n",
    "- 1000 adet öğrencinin sınav puanlarını (0-100 arası, normal dağılımdan gelen) simüle edin.\n",
    "- Ortalama, medyan ve standart sapmayı hesaplayın.\n",
    "- 50’den düşük alan kaç öğrenci olduğunu bulun.\n"
   ]
  },
  {
   "cell_type": "code",
   "execution_count": 31,
   "id": "796be81e",
   "metadata": {},
   "outputs": [
    {
     "name": "stdout",
     "output_type": "stream",
     "text": [
      "Ortalama: 75.304\n",
      "Medyan: 76.0\n",
      "Standart Sapma: 14.564051084777201\n",
      "50'den Düşük Alan Öğrenci Sayısı: 51\n"
     ]
    }
   ],
   "source": [
    "puanlar = np.random.normal(75, 15, 1000)\n",
    "puanlar = np.clip(puanlar, 0, 100).astype(int)\n",
    "print(\"Ortalama:\", np.mean(puanlar))\n",
    "print(\"Medyan:\", np.median(puanlar))\n",
    "print(\"Standart Sapma:\", np.std(puanlar))\n",
    "print(\"50'den Düşük Alan Öğrenci Sayısı:\", np.sum(puanlar < 50))"
   ]
  },
  {
   "cell_type": "markdown",
   "id": "8e5dafb9",
   "metadata": {},
   "source": [
    "Bir CSV dosyası oluşturun ya da aşağıdaki gibi örnek bir DataFrame hazırlayın:\n",
    "Öğrenci\tYaş\tBölüm\tMatematik\tFizik\tKimya\n",
    "Ali \t20\tBilgisayar\t70\t    65\t    80\n",
    "Ayşe\t21\tFizik\t    60\t    75\t    85\n",
    "Mehmet\t19\tKimya\t    80\t    70\t    65\n",
    "Zeynep\t22\tBilgisayar\t90\t    85\t    95\n",
    "Ahmet\t20\tFizik\t    55\t    60\t    70\n"
   ]
  },
  {
   "cell_type": "markdown",
   "id": "72080c46",
   "metadata": {},
   "source": [
    "1.Veri setini Pandas DataFrame olarak oluşturun.\n",
    "2.Her ders için ortalama puanı bulun.\n",
    "3.En yüksek matematik notunu alan öğrenciyi bulun.\n",
    "4.Her öğrencinin not ortalamasını hesaplayan yeni bir sütun ekleyin.\n",
    "5.Bölümlere göre gruplayarak her bölümün ortalama başarılarını hesaplayın.\n",
    "6.Ortalaması 70’in üzerinde olan öğrencileri filtreleyin\n"
   ]
  },
  {
   "cell_type": "code",
   "execution_count": 57,
   "id": "9299db68",
   "metadata": {},
   "outputs": [],
   "source": [
    "#1.\n",
    "import pandas as pd\n",
    "data = {\n",
    "    'Öğrenci': ['Ali', 'Ayşe', 'Mehmet', 'Zeynep', 'Ahmet'],\n",
    "    'Yaş': [20, 21, 19, 22, 20],\n",
    "    'Bölüm': ['Bilgisayar', 'Fizik', 'Kimya', 'Bilgisayar', 'Fizik'],\n",
    "    'Matematik': [70, 60, 80, 90, 55],\n",
    "    'Fizik': [65, 75, 70, 85, 60],\n",
    "    'Kimya': [80, 85, 65, 95, 70]\n",
    "}\n",
    "df = pd.DataFrame(data)"
   ]
  },
  {
   "cell_type": "code",
   "execution_count": 59,
   "id": "eac478ff-7964-4ef2-aaf6-1d2e0776b84f",
   "metadata": {},
   "outputs": [
    {
     "name": "stdout",
     "output_type": "stream",
     "text": [
      "Ders Ortalamaları:\n",
      "71.0\n",
      "71.0\n",
      "79.0\n"
     ]
    }
   ],
   "source": [
    "#2.\n",
    "print(\"Ders Ortalamaları:\")\n",
    "print(df['Matematik'].mean())\n",
    "print(df['Fizik'].mean())\n",
    "print(df['Kimya'].mean())"
   ]
  },
  {
   "cell_type": "code",
   "execution_count": 61,
   "id": "a98d51de-de44-4323-a700-c12efafc80d2",
   "metadata": {},
   "outputs": [
    {
     "name": "stdout",
     "output_type": "stream",
     "text": [
      "En Yüksek Matematik Puanı: 90\n",
      "Öğrenci: Zeynep\n"
     ]
    }
   ],
   "source": [
    "#3.\n",
    "max_mat = df['Matematik'].max()\n",
    "print(\"En Yüksek Matematik Puanı:\", max_mat)\n",
    "en_iyi = df[df['Matematik'] == max_mat]\n",
    "print(\"Öğrenci:\", en_iyi['Öğrenci'].values[0])"
   ]
  },
  {
   "cell_type": "code",
   "execution_count": 63,
   "id": "951ba7bb-cc2c-48f5-ba81-d50f34a09300",
   "metadata": {},
   "outputs": [
    {
     "name": "stdout",
     "output_type": "stream",
     "text": [
      "Yeni Tablo (Ortalama Eklenmiş):\n",
      "  Öğrenci  Yaş       Bölüm  Matematik  Fizik  Kimya   Ortalama\n",
      "0     Ali   20  Bilgisayar         70     65     80  71.666667\n",
      "1    Ayşe   21       Fizik         60     75     85  73.333333\n",
      "2  Mehmet   19       Kimya         80     70     65  71.666667\n",
      "3  Zeynep   22  Bilgisayar         90     85     95  90.000000\n",
      "4   Ahmet   20       Fizik         55     60     70  61.666667\n"
     ]
    }
   ],
   "source": [
    "#4.\n",
    "df['Ortalama'] = (df['Matematik'] + df['Fizik'] + df['Kimya']) / 3  # Manuel ortalama, kolay!\n",
    "print(\"Yeni Tablo (Ortalama Eklenmiş):\")\n",
    "print(df)"
   ]
  },
  {
   "cell_type": "code",
   "execution_count": 67,
   "id": "483d1e69-7f05-4d36-b9ac-fc929a09382d",
   "metadata": {},
   "outputs": [],
   "source": [
    "#5.soruyu yapamadım\n"
   ]
  },
  {
   "cell_type": "code",
   "execution_count": 65,
   "id": "5ce05b90-57f3-414f-ba96-607b023bb8ac",
   "metadata": {},
   "outputs": [
    {
     "name": "stdout",
     "output_type": "stream",
     "text": [
      "70 Üstü Öğrenciler:\n",
      "  Öğrenci   Ortalama\n",
      "0     Ali  71.666667\n",
      "1    Ayşe  73.333333\n",
      "2  Mehmet  71.666667\n",
      "3  Zeynep  90.000000\n"
     ]
    }
   ],
   "source": [
    "#6.\n",
    "iyi_ogrenciler = df[df['Ortalama'] > 70]\n",
    "print(\"70 Üstü Öğrenciler:\")\n",
    "print(iyi_ogrenciler[['Öğrenci', 'Ortalama']])"
   ]
  }
 ],
 "metadata": {
  "kernelspec": {
   "display_name": "Python [conda env:base] *",
   "language": "python",
   "name": "conda-base-py"
  },
  "language_info": {
   "codemirror_mode": {
    "name": "ipython",
    "version": 3
   },
   "file_extension": ".py",
   "mimetype": "text/x-python",
   "name": "python",
   "nbconvert_exporter": "python",
   "pygments_lexer": "ipython3",
   "version": "3.12.7"
  }
 },
 "nbformat": 4,
 "nbformat_minor": 5
}
