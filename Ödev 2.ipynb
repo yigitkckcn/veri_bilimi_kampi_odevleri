{
 "cells": [
  {
   "cell_type": "markdown",
   "id": "9e5f83f4-1323-4032-bd1f-ab1a5fee1c9b",
   "metadata": {},
   "source": [
    "Yaz Kampı: Veri Bilimi – Hafta 2"
   ]
  },
  {
   "cell_type": "markdown",
   "id": "778be9e5-e7e4-4e24-9609-96a19fc1f96e",
   "metadata": {},
   "source": [
    "Soru 1 – Sayı Analizi\n",
    "Kullanıcıdan bir sayı isteyin.\n",
    "• Sayı pozitif, negatif ya da sıfır mı kontrol edin.\n",
    "• Aynı zamanda tek/çift olup olmadığını da belirtin.\n",
    "• Çıktı örneği: \"Pozitif Çift\" veya \"Negatif Tek\" gibi."
   ]
  },
  {
   "cell_type": "code",
   "execution_count": 39,
   "id": "795740fd-8b65-4f9a-b1ef-fb198f3e76d7",
   "metadata": {},
   "outputs": [
    {
     "name": "stdin",
     "output_type": "stream",
     "text": [
      "sayi analizi icin sayi giriniz -19\n"
     ]
    },
    {
     "name": "stdout",
     "output_type": "stream",
     "text": [
      "sayi negatif ve tek sayidir\n"
     ]
    }
   ],
   "source": [
    "x=int(input(\"sayi analizi icin sayi giriniz\"))\n",
    "if x==0:\n",
    "    print(\"Sayi Sifirdir\")\n",
    "elif 0<x and x%2==0 :\n",
    "    print(\"sayi pozitif ve cift sayidir\") \n",
    "elif 0<x and x%2!=0 :\n",
    "    print(\"sayi pozitif ve tek sayidir\") \n",
    "elif 0>x and x%2==0 :\n",
    "    print(\"sayi negatif ve cift sayidir\") \n",
    "elif 0>x and x%2!=0 :\n",
    "    print(\"sayi negatif ve tek sayidir\")\n",
    "else :\n",
    "    print(\"Yanlis veri girisi yaptiniz\")"
   ]
  },
  {
   "cell_type": "markdown",
   "id": "dfc564cc-2102-4678-9256-ab8ca06403ea",
   "metadata": {},
   "source": [
    "Soru 2 – Harf Frekansı (String)\n",
    "Kullanıcıdan bir kelime alın.\n",
    "• Hangi harften kaç tane geçtiğini bulun.\n",
    "• Sonucu dictionary olarak gösterin.\n",
    "Örnek: \"data\" → {'d': 1, 'a': 2, 't': 1}"
   ]
  },
  {
   "cell_type": "code",
   "execution_count": 44,
   "id": "e32d7db8-0309-44a5-89ae-9df4c87dd07d",
   "metadata": {},
   "outputs": [
    {
     "name": "stdin",
     "output_type": "stream",
     "text": [
      "Lutfen bir kelime giriniz yigit\n"
     ]
    },
    {
     "name": "stdout",
     "output_type": "stream",
     "text": [
      "{'y': 1, 'i': 2, 'g': 1, 't': 1}\n"
     ]
    }
   ],
   "source": [
    "data={}\n",
    "kelime=str(input(\"Lutfen bir kelime giriniz\"))\n",
    "for harf in kelime:\n",
    "    if harf in data:\n",
    "        data[harf] += 1\n",
    "    else:\n",
    "        data[harf] = 1\n",
    "print(data)"
   ]
  },
  {
   "cell_type": "markdown",
   "id": "6194382d-4c9c-474c-96a1-56caf4926767",
   "metadata": {},
   "source": [
    "Soru 3 – Şifre Kontrolü (String Metotları)\n",
    "Kullanıcıdan şifre girmesini isteyin. Şifre:\n",
    "• En az 8 karakter olmalı\n",
    "• En az 1 büyük harf içermeli\n",
    "• En az 1 rakam içermeli\n",
    "Koşulları sağlayıp sağlamadığına göre kullanıcıyı bilgilendirin."
   ]
  },
  {
   "cell_type": "code",
   "execution_count": null,
   "id": "00591c91-7288-4cdc-a137-3c23ac955a4c",
   "metadata": {},
   "outputs": [],
   "source": []
  },
  {
   "cell_type": "markdown",
   "id": "eceb927b-a379-4ec3-abf1-ba7096b22ccd",
   "metadata": {},
   "source": [
    "Soru 4 – Liste İşlemleri\n",
    "[12, 4, 9, 25, 30, 7, 18] listesini kullanın.\n",
    "• Listenin ortalamasını bulun.\n",
    "• Ortalamadan büyük sayıları ayrı bir listeye atın.\n",
    "• Sonucu ekrana yazdırın."
   ]
  },
  {
   "cell_type": "code",
   "execution_count": 5,
   "id": "aa0a339c-775e-44c6-89a3-ae71c5987ed5",
   "metadata": {},
   "outputs": [
    {
     "name": "stdout",
     "output_type": "stream",
     "text": [
      "listedeki tum sayilarin ortalamasi:15.0\n",
      "ortalama ustu sayilar:[25, 30, 18]\n"
     ]
    }
   ],
   "source": [
    "a=-1\n",
    "toplam=0\n",
    "sayilar=[12,4,9,25,30,7,18]\n",
    "ort_ustu=[]\n",
    "type(sayilar[1])\n",
    "while a<6 :\n",
    "    toplam=toplam+sayilar[a]\n",
    "    a=a+1\n",
    "ortalama=toplam/7\n",
    "print(f\"listedeki tum sayilarin ortalamasi:{ortalama}\")\n",
    "a=-1\n",
    "while a<6 :\n",
    "    a=a+1\n",
    "    b=sayilar[a]\n",
    "    if ortalama<b :\n",
    "        ort_ustu.append(b)\n",
    "print(f\"ortalama ustu sayilar:{ort_ustu}\")"
   ]
  },
  {
   "cell_type": "markdown",
   "id": "f4cf5425-89d1-4c0b-bb1b-2f310d945255",
   "metadata": {},
   "source": [
    "Soru 5 – Nested Loop (Desen)\n",
    "Aşağıdaki çıktıyı üreten programı yazın (üçgen desen):"
   ]
  },
  {
   "cell_type": "code",
   "execution_count": 36,
   "id": "5cf30067-6775-4a65-ad0b-1071423de6f8",
   "metadata": {},
   "outputs": [
    {
     "name": "stdout",
     "output_type": "stream",
     "text": [
      "*  \n",
      "* *  \n",
      "* * *  \n",
      "* * * *  \n",
      "* * * * *  \n"
     ]
    }
   ],
   "source": [
    "for i in range(0,5) :\n",
    "    for j in range(i+1) :\n",
    "        print(\"*\",end=\" \")\n",
    "    print(\" \")"
   ]
  },
  {
   "cell_type": "markdown",
   "id": "e9c704ed-3179-41cf-a259-9d09e92bb798",
   "metadata": {},
   "source": [
    "Soru 6 – While Döngüsü\n",
    "Kullanıcıdan sürekli sayı isteyin.\n",
    "• Kullanıcı 0 girdiğinde program dursun.\n",
    "• Girilen tüm sayıların toplamını ve ortalamasını yazdırın."
   ]
  },
  {
   "cell_type": "code",
   "execution_count": null,
   "id": "9ca9ade8-bdc6-4d53-ad71-5daea84136a9",
   "metadata": {},
   "outputs": [
    {
     "name": "stdin",
     "output_type": "stream",
     "text": [
      "sayi giriniz 55\n",
      "sayi giriniz 66\n",
      "sayi giriniz 0\n",
      "sayi giriniz \n",
      "sayi giriniz 00\n"
     ]
    }
   ],
   "source": [
    "while 1==1 :\n",
    "    x=input(\"sayi giriniz\")\n",
    "    if x==0 :\n",
    "        quit()"
   ]
  },
  {
   "cell_type": "markdown",
   "id": "e9e18f3c-9d37-427f-9de9-f2f59eadf9df",
   "metadata": {},
   "source": [
    "Soru 7 – Palindrom Kontrolü\n",
    "Kullanıcıdan bir kelime isteyin.\n",
    "• Kelimenin palindrom olup olmadığını kontrol edin.\n",
    "• Örnek: \"kayak\" → Palindrom , \"python\" → Değil"
   ]
  },
  {
   "cell_type": "code",
   "execution_count": 1,
   "id": "0500b500-37aa-4535-93bd-4d93c85de61d",
   "metadata": {},
   "outputs": [
    {
     "name": "stdin",
     "output_type": "stream",
     "text": [
      "Bir kelime giriniz:  kayak\n"
     ]
    },
    {
     "name": "stdout",
     "output_type": "stream",
     "text": [
      "kayak bir palindromdur\n"
     ]
    }
   ],
   "source": [
    "kelime = input(\"Bir kelime giriniz: \")\n",
    "if kelime == kelime[::-1]:\n",
    "    print(f\"{kelime} bir palindromdur\")\n",
    "else:\n",
    "    print(f\"{kelime} bir palindrom değildir\")"
   ]
  },
  {
   "cell_type": "markdown",
   "id": "751356cb-9568-44b1-ac69-f38f7f1fbd68",
   "metadata": {},
   "source": [
    "Soru 8 – List Comprehension\n",
    "1’den 100’e kadar olan sayılardan:\n",
    "• Hem 3’e hem 5’e bölünebilenlerin karelerini içeren bir liste oluşturun.\n",
    "• Sonucu ekrana yazdırın."
   ]
  },
  {
   "cell_type": "code",
   "execution_count": 1,
   "id": "eed28bed-d496-4df1-8801-ff0caf5cb999",
   "metadata": {},
   "outputs": [
    {
     "name": "stdout",
     "output_type": "stream",
     "text": [
      "3 ve 5 bölünen sayilarin listesi:[15, 30, 45, 60, 75, 90]\n"
     ]
    }
   ],
   "source": [
    "sayi=[]\n",
    "a=0\n",
    "while a<100 :\n",
    "    a=a+1\n",
    "    if a%3==0 and a%5==0 :\n",
    "        sayi.append(a)\n",
    "print(f\"3 ve 5 bölünen sayilarin listesi:{sayi}\")"
   ]
  },
  {
   "cell_type": "markdown",
   "id": "abd6327c-342d-44b1-986c-5166c90085bb",
   "metadata": {},
   "source": [
    "Soru 9 – String İşlemleri\n",
    "Bir cümle alın.\n",
    "• Cümledeki kelimeleri split() ile ayırın.\n",
    "• Her kelimenin ilk harfini büyük yaparak yeni bir string oluşturun.\n",
    "• Örnek: \"python veri bilimi\" → \"Python Veri Bilimi\""
   ]
  },
  {
   "cell_type": "code",
   "execution_count": 1,
   "id": "4b566a8a-1df8-43ee-9af3-cf5e03ebbd11",
   "metadata": {},
   "outputs": [
    {
     "name": "stdin",
     "output_type": "stream",
     "text": [
      "Bir cümle giriniz:  python veri bilimi\n"
     ]
    },
    {
     "name": "stdout",
     "output_type": "stream",
     "text": [
      "Dönüştürülmüş cümle: Python Veri Bilimi\n"
     ]
    }
   ],
   "source": [
    "cumle = input(\"Bir cümle giriniz: \")\n",
    "kelimeler = cumle.split()\n",
    "yeni_kelimeler = [kelime.capitalize() for kelime in kelimeler]\n",
    "yeni_cumle = \" \".join(yeni_kelimeler)\n",
    "print(\"Dönüştürülmüş cümle:\", yeni_cumle)\n"
   ]
  },
  {
   "cell_type": "markdown",
   "id": "2f1c1e67-c969-4386-9854-a902ae377398",
   "metadata": {},
   "source": [
    "Mini Proje – Film Yorumu Analizi\n",
    "Proje Tanımı:\n",
    "Kullanıcıdan birkaç film yorumu alın (örneğin 5–6 yorum).\n",
    "- Yorumları bir listeye atın.\n",
    "- Her yorumun uzunluğunu (karakter sayısı) bulun.\n",
    "- Kaç yorumda \"iyi\" kelimesi geçtiğini sayın.\n",
    "- En uzun yorumu ve en kısa yorumu ekrana yazdırın.\n",
    "- Tüm yorumların ortalama uzunluğunu hesaplayın.\n",
    "Beklenen Çıktı Örneği\n",
    "Girdi (yorumlar):\n",
    "[\"Film çok güzeldi\", \"Kötüydü\", \"Ortalama bir filmdiOrtalama bir filmdi\", \"Gerçekten çok iyi!\", \"İyi ama daha iyi\n",
    "olabilirdi\"]\n",
    "Çıktı:\n",
    "Toplam yorum sayısı: 5\n",
    "\"iyi\" geçen yorum sayısı: 2\n",
    "En uzun yorum: İyi ama daha iyi olabilirdi\n",
    "En kısa yorum: Kötüydü\n",
    "Ortalama uzunluk: 17.4 karakter"
   ]
  },
  {
   "cell_type": "code",
   "execution_count": 62,
   "id": "978cc3cd-9ac1-4424-8c66-20083d3a95dc",
   "metadata": {},
   "outputs": [
    {
     "name": "stdin",
     "output_type": "stream",
     "text": [
      "Kaç yorum gireceksiniz:  5\n",
      "1. yorumu giriniz:  Film çok güzeldi\n"
     ]
    },
    {
     "name": "stdout",
     "output_type": "stream",
     "text": [
      "1. yorum eklendi\n"
     ]
    },
    {
     "name": "stdin",
     "output_type": "stream",
     "text": [
      "2. yorumu giriniz:  Kötüydü\n"
     ]
    },
    {
     "name": "stdout",
     "output_type": "stream",
     "text": [
      "2. yorum eklendi\n"
     ]
    },
    {
     "name": "stdin",
     "output_type": "stream",
     "text": [
      "3. yorumu giriniz:  Ortalama bir filmdiOrtalama bir filmdi\n"
     ]
    },
    {
     "name": "stdout",
     "output_type": "stream",
     "text": [
      "3. yorum eklendi\n"
     ]
    },
    {
     "name": "stdin",
     "output_type": "stream",
     "text": [
      "4. yorumu giriniz:  4545464,\n"
     ]
    },
    {
     "name": "stdout",
     "output_type": "stream",
     "text": [
      "4. yorum eklendi\n"
     ]
    },
    {
     "name": "stdin",
     "output_type": "stream",
     "text": [
      "5. yorumu giriniz:  5446\n"
     ]
    },
    {
     "name": "stdout",
     "output_type": "stream",
     "text": [
      "5. yorum eklendi\n",
      "iyi gecen yorum sayisi:0\n",
      "En uzun yorum: Ortalama bir filmdiOrtalama bir filmdi\n",
      "En kısa yorum: 5446\n",
      "ortalama uzunluk:14.6\n"
     ]
    }
   ],
   "source": [
    "yorum_listesi =[]\n",
    "toplam_metin_uzunluk=0\n",
    "a = 0\n",
    "b = int(input(\"Kaç yorum gireceksiniz: \"))\n",
    "while a < b:\n",
    "    yorum = input(f\"{a+1}. yorumu giriniz: \")\n",
    "    yorum_listesi.append(yorum)\n",
    "    a = a + 1\n",
    "    print(f\"{a}. yorum eklendi\")\n",
    "\n",
    "sayac = 0\n",
    "en_uzun = yorum_listesi[0]\n",
    "en_kisa = yorum_listesi[0]\n",
    "for yorum in yorum_listesi:\n",
    "    if len(yorum) > len(en_uzun):\n",
    "        en_uzun = yorum\n",
    "    if len(yorum) < len(en_kisa):\n",
    "        en_kisa = yorum\n",
    "\n",
    "    if \"iyi\" in yorum:\n",
    "        sayac += 1\n",
    "print(f\"iyi gecen yorum sayisi:{sayac}\")\n",
    "print(\"En uzun yorum:\", en_uzun)\n",
    "print(\"En kısa yorum:\", en_kisa)\n",
    "\n",
    "a = 0\n",
    "b = len(yorum_listesi)\n",
    "while a < b:\n",
    "    toplam_metin_uzunluk=toplam_metin_uzunluk+len(yorum_listesi[a])\n",
    "    \n",
    "    a = a + 1\n",
    "print(f\"ortalama uzunluk:{toplam_metin_uzunluk/len(yorum_listesi)}\")"
   ]
  },
  {
   "cell_type": "code",
   "execution_count": null,
   "id": "7399781d-fc10-4190-9c7a-9bb7c23ebe09",
   "metadata": {},
   "outputs": [],
   "source": []
  }
 ],
 "metadata": {
  "kernelspec": {
   "display_name": "Python [conda env:base] *",
   "language": "python",
   "name": "conda-base-py"
  },
  "language_info": {
   "codemirror_mode": {
    "name": "ipython",
    "version": 3
   },
   "file_extension": ".py",
   "mimetype": "text/x-python",
   "name": "python",
   "nbconvert_exporter": "python",
   "pygments_lexer": "ipython3",
   "version": "3.12.7"
  }
 },
 "nbformat": 4,
 "nbformat_minor": 5
}
